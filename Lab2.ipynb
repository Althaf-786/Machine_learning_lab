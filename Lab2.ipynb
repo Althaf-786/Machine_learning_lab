{
 "cells": [
  {
   "cell_type": "code",
   "execution_count": 2,
   "id": "58b6a07b-d6bd-4665-a94d-4c9821efee2b",
   "metadata": {},
   "outputs": [
    {
     "name": "stdout",
     "output_type": "stream",
     "text": [
      "0.13.2\n"
     ]
    }
   ],
   "source": [
    "import seaborn as sns\n",
    "print(sns.__version__)\n"
   ]
  },
  {
   "cell_type": "code",
   "execution_count": 5,
   "id": "53574ea8-1b5c-4695-85b6-16e64968b1f5",
   "metadata": {},
   "outputs": [
    {
     "name": "stdout",
     "output_type": "stream",
     "text": [
      "      Manufacturer              Model  Sales in thousands 4-year resale value  \\\n",
      "0    Acura          Integra                        16.919               16.36   \n",
      "1    Acura          TL                             39.384              19.875   \n",
      "2    Acura          CL                             14.114              18.225   \n",
      "3    Acura          RL                              8.588              29.725   \n",
      "4    Audi           A4                             20.397              22.255   \n",
      "..             ...                ...                 ...                 ...   \n",
      "152  Volvo          V40                             3.545                   .   \n",
      "153  Volvo          S70                            15.245                   .   \n",
      "154  Volvo          V70                            17.531                   .   \n",
      "155  Volvo          C70                             3.493                   .   \n",
      "156  Volvo          S80                            18.969                   .   \n",
      "\n",
      "    Vehicle type Price in thousands Engine size Horsepower Wheelbase Width  \\\n",
      "0      Passenger               21.5         1.8        140     101.2  67.3   \n",
      "1      Passenger               28.4         3.2        225     108.1  70.3   \n",
      "2      Passenger                  .         3.2        225     106.9  70.6   \n",
      "3      Passenger                 42         3.5        210     114.6  71.4   \n",
      "4      Passenger              23.99         1.8        150     102.6  68.2   \n",
      "..           ...                ...         ...        ...       ...   ...   \n",
      "152    Passenger               24.4         1.9        160     100.5  67.6   \n",
      "153    Passenger               27.5         2.4        168     104.9  69.3   \n",
      "154    Passenger               28.8         2.4        168     104.9  69.3   \n",
      "155    Passenger               45.5         2.3        236     104.9  71.5   \n",
      "156    Passenger                 36         2.9        201     109.9  72.1   \n",
      "\n",
      "    Length Curb weight Fuel capacity Fuel efficiency Latest Launch  \n",
      "0    172.4       2.639          13.2              28      2-Feb-14  \n",
      "1    192.9       3.517          17.2              25      6-Mar-15  \n",
      "2      192        3.47          17.2              26      1-Apr-14  \n",
      "3    196.6        3.85            18              22      3-Oct-15  \n",
      "4      178       2.998          16.4              27     10-Aug-15  \n",
      "..     ...         ...           ...             ...           ...  \n",
      "152  176.6       3.042          15.8              25     21-Sep-15  \n",
      "153  185.9       3.208          17.9              25     24-Nov-14  \n",
      "154  186.2       3.259          17.9              25     25-Jun-15  \n",
      "155  185.7       3.601          18.5              23     26-Apr-15  \n",
      "156  189.8         3.6          21.1              24     14-Nov-15  \n",
      "\n",
      "[157 rows x 15 columns]\n"
     ]
    }
   ],
   "source": [
    "import pandas as pd\n",
    "df = pd.read_csv(\"Car_sales.csv\")\n",
    "print(df);"
   ]
  },
  {
   "cell_type": "code",
   "execution_count": 8,
   "id": "df62a72b-f55b-4cec-98a0-12a216d58064",
   "metadata": {},
   "outputs": [
    {
     "name": "stdout",
     "output_type": "stream",
     "text": [
      "number of attributes are :  157\n"
     ]
    }
   ],
   "source": [
    "num_attributes = df.shape[1];\n",
    "print(\"number of attributes/columns are : \", num_attributes)"
   ]
  },
  {
   "cell_type": "code",
   "execution_count": 9,
   "id": "61a44399-7043-422b-89aa-036e2064928f",
   "metadata": {},
   "outputs": [
    {
     "name": "stdout",
     "output_type": "stream",
     "text": [
      "Number of rows : 157\n"
     ]
    }
   ],
   "source": [
    "num_rows =  df.shape[0]\n",
    "print(\"Number of rows :\", num_rows)"
   ]
  },
  {
   "cell_type": "code",
   "execution_count": 11,
   "id": "3dc409d1-2286-44c7-bf92-ecd99432507c",
   "metadata": {},
   "outputs": [
    {
     "name": "stdout",
     "output_type": "stream",
     "text": [
      "<class 'pandas.core.frame.DataFrame'>\n",
      "RangeIndex: 157 entries, 0 to 156\n",
      "Data columns (total 15 columns):\n",
      " #   Column               Non-Null Count  Dtype  \n",
      "---  ------               --------------  -----  \n",
      " 0   Manufacturer         157 non-null    object \n",
      " 1   Model                157 non-null    object \n",
      " 2   Sales in thousands   157 non-null    float64\n",
      " 3   4-year resale value  157 non-null    object \n",
      " 4   Vehicle type         157 non-null    object \n",
      " 5   Price in thousands   157 non-null    object \n",
      " 6   Engine size          157 non-null    object \n",
      " 7   Horsepower           157 non-null    object \n",
      " 8   Wheelbase            157 non-null    object \n",
      " 9   Width                157 non-null    object \n",
      " 10  Length               157 non-null    object \n",
      " 11  Curb weight          157 non-null    object \n",
      " 12  Fuel capacity        157 non-null    object \n",
      " 13  Fuel efficiency      157 non-null    object \n",
      " 14  Latest Launch        157 non-null    object \n",
      "dtypes: float64(1), object(14)\n",
      "memory usage: 18.5+ KB\n",
      "None\n",
      "<class 'pandas.core.frame.DataFrame'>\n",
      "RangeIndex: 157 entries, 0 to 156\n",
      "Data columns (total 15 columns):\n",
      " #   Column               Non-Null Count  Dtype  \n",
      "---  ------               --------------  -----  \n",
      " 0   Manufacturer         157 non-null    object \n",
      " 1   Model                157 non-null    object \n",
      " 2   Sales in thousands   157 non-null    float64\n",
      " 3   4-year resale value  157 non-null    object \n",
      " 4   Vehicle type         157 non-null    object \n",
      " 5   Price in thousands   157 non-null    object \n",
      " 6   Engine size          157 non-null    object \n",
      " 7   Horsepower           157 non-null    object \n",
      " 8   Wheelbase            157 non-null    object \n",
      " 9   Width                157 non-null    object \n",
      " 10  Length               157 non-null    object \n",
      " 11  Curb weight          157 non-null    object \n",
      " 12  Fuel capacity        157 non-null    object \n",
      " 13  Fuel efficiency      157 non-null    object \n",
      " 14  Latest Launch        157 non-null    object \n",
      "dtypes: float64(1), object(14)\n",
      "memory usage: 18.5+ KB\n"
     ]
    }
   ],
   "source": [
    "print(df.info());\n",
    "df.info()"
   ]
  },
  {
   "cell_type": "code",
   "execution_count": 13,
   "id": "71381bd8-860c-4828-9a26-df0500546c74",
   "metadata": {},
   "outputs": [
    {
     "name": "stdout",
     "output_type": "stream",
     "text": [
      "Number of rows: 157\n",
      "Number of columns: 15\n"
     ]
    }
   ],
   "source": [
    "import pandas as pd\n",
    "df = pd.read_csv(\"Car_sales.csv\")\n",
    "num_rows, num_columns = df.shape\n",
    "print(\"Number of rows:\", num_rows)\n",
    "print(\"Number of columns:\", num_columns)"
   ]
  },
  {
   "cell_type": "code",
   "execution_count": 14,
   "id": "0aefb70e-d431-44ee-8b43-f8889de814c7",
   "metadata": {},
   "outputs": [
    {
     "name": "stdout",
     "output_type": "stream",
     "text": [
      "Number of Columns before removing duplicates :  157\n",
      "Number of Columns after removing duplicates :  157\n"
     ]
    }
   ],
   "source": [
    "df_cleaned = df.drop_duplicates();\n",
    "print(\"Number of Columns before removing duplicates : \",df.shape[0]);\n",
    "print(\"Number of Columns after removing duplicates : \", df_cleaned.shape[0])"
   ]
  },
  {
   "cell_type": "code",
   "execution_count": 19,
   "id": "9c4bf691-bf56-49c1-933c-c9b01e3393d9",
   "metadata": {},
   "outputs": [
    {
     "name": "stdout",
     "output_type": "stream",
     "text": [
      "Number of rows before removing duplicates: 15\n",
      "Number of rows after removing duplicates:\n",
      " 15\n"
     ]
    }
   ],
   "source": [
    "df_cleaned = df.drop_duplicates()\n",
    "print(\"Number of rows before removing duplicates:\", df.shape[1])\n",
    "print(\"Number of rows after removing duplicates:\",df_cleaned.shape[1])"
   ]
  },
  {
   "cell_type": "code",
   "execution_count": 22,
   "id": "d762749d-093f-420c-9207-08d76fcdd17d",
   "metadata": {},
   "outputs": [
    {
     "name": "stdout",
     "output_type": "stream",
     "text": [
      "Summary Statistics for Numerical Variables : \n",
      "        Sales in thousands\n",
      "count          157.000000\n",
      "mean            52.998076\n",
      "std             68.029422\n",
      "min              0.110000\n",
      "25%             14.114000\n",
      "50%             29.450000\n",
      "75%             67.956000\n",
      "max            540.561000\n"
     ]
    }
   ],
   "source": [
    "print(\"Summary Statistics for Numerical Variables : \\n\",\n",
    "df.describe())"
   ]
  },
  {
   "cell_type": "code",
   "execution_count": 21,
   "id": "adf17d22-ab23-4bc6-bf57-9bd2549b0c2f",
   "metadata": {},
   "outputs": [
    {
     "name": "stdout",
     "output_type": "stream",
     "text": [
      "Number of missing values in each column:\n",
      "Manufacturer           0\n",
      "Model                  0\n",
      "Sales in thousands     0\n",
      "4-year resale value    0\n",
      "Vehicle type           0\n",
      "Price in thousands     0\n",
      "Engine size            0\n",
      "Horsepower             0\n",
      "Wheelbase              0\n",
      "Width                  0\n",
      "Length                 0\n",
      "Curb weight            0\n",
      "Fuel capacity          0\n",
      "Fuel efficiency        0\n",
      "Latest Launch          0\n",
      "dtype: int64\n"
     ]
    }
   ],
   "source": [
    "print(\"Number of missing values in each column:\")\n",
    "print(df.isnull().sum())"
   ]
  },
  {
   "cell_type": "code",
   "execution_count": 26,
   "id": "11a68522-186d-4098-acd9-da2c75ae057c",
   "metadata": {},
   "outputs": [
    {
     "name": "stdout",
     "output_type": "stream",
     "text": [
      "the column with the most missing values :\n",
      " Manufacturer\n"
     ]
    }
   ],
   "source": [
    "print(\"the column with the most missing values :\\n\",df.isnull().sum().idxmax());"
   ]
  },
  {
   "cell_type": "code",
   "execution_count": 29,
   "id": "cfb545ae-71aa-40ac-a273-f3cb6e0af678",
   "metadata": {},
   "outputs": [
    {
     "name": "stdout",
     "output_type": "stream",
     "text": [
      "Missing values before:\n",
      " Manufacturer           0\n",
      "Model                  0\n",
      "Sales in thousands     0\n",
      "4-year resale value    0\n",
      "Vehicle type           0\n",
      "Price in thousands     0\n",
      "Engine size            0\n",
      "Horsepower             0\n",
      "Wheelbase              0\n",
      "Width                  0\n",
      "Length                 0\n",
      "Curb weight            0\n",
      "Fuel capacity          0\n",
      "Fuel efficiency        0\n",
      "Latest Launch          0\n",
      "dtype: int64\n",
      "Missing values after:\n",
      " Manufacturer           0\n",
      "Model                  0\n",
      "Sales in thousands     0\n",
      "4-year resale value    0\n",
      "Vehicle type           0\n",
      "Price in thousands     0\n",
      "Engine size            0\n",
      "Horsepower             0\n",
      "Wheelbase              0\n",
      "Width                  0\n",
      "Length                 0\n",
      "Curb weight            0\n",
      "Fuel capacity          0\n",
      "Fuel efficiency        0\n",
      "Latest Launch          0\n",
      "dtype: int64\n",
      "    Manufacturer              Model  Sales in thousands 4-year resale value  \\\n",
      "0  Acura          Integra                        16.919               16.36   \n",
      "1  Acura          TL                             39.384              19.875   \n",
      "2  Acura          CL                             14.114              18.225   \n",
      "3  Acura          RL                              8.588              29.725   \n",
      "4  Audi           A4                             20.397              22.255   \n",
      "\n",
      "  Vehicle type Price in thousands Engine size Horsepower Wheelbase Width  \\\n",
      "0    Passenger               21.5         1.8        140     101.2  67.3   \n",
      "1    Passenger               28.4         3.2        225     108.1  70.3   \n",
      "2    Passenger                  .         3.2        225     106.9  70.6   \n",
      "3    Passenger                 42         3.5        210     114.6  71.4   \n",
      "4    Passenger              23.99         1.8        150     102.6  68.2   \n",
      "\n",
      "  Length Curb weight Fuel capacity Fuel efficiency Latest Launch  \n",
      "0  172.4       2.639          13.2              28      2-Feb-14  \n",
      "1  192.9       3.517          17.2              25      6-Mar-15  \n",
      "2    192        3.47          17.2              26      1-Apr-14  \n",
      "3  196.6        3.85            18              22      3-Oct-15  \n",
      "4    178       2.998          16.4              27     10-Aug-15  \n"
     ]
    }
   ],
   "source": [
    "import pandas as pd\n",
    "df = pd.read_csv(\"Car_sales.csv\")\n",
    "\n",
    "# Check missing values before imputation\n",
    "print(\"Missing values before:\\n\", df.isnull().sum())\n",
    "\n",
    "df[\"Sales in thousands\"].fillna(df[\"Sales in thousands\"].mean(),inplace=True)\n",
    "print(\"Missing values after:\\n\", df.isnull().sum())\n",
    "print(df.head())"
   ]
  },
  {
   "cell_type": "code",
   "execution_count": 32,
   "id": "e9ed328a-9828-40c0-9d94-641c4570c532",
   "metadata": {},
   "outputs": [
    {
     "name": "stdout",
     "output_type": "stream",
     "text": [
      "\n",
      "19. Scatterplot of Price vs Sales\n"
     ]
    },
    {
     "ename": "NameError",
     "evalue": "name 'sns' is not defined",
     "output_type": "error",
     "traceback": [
      "\u001b[0;31m---------------------------------------------------------------------------\u001b[0m",
      "\u001b[0;31mNameError\u001b[0m                                 Traceback (most recent call last)",
      "Cell \u001b[0;32mIn[32], line 2\u001b[0m\n\u001b[1;32m      1\u001b[0m \u001b[38;5;28mprint\u001b[39m(\u001b[38;5;124m\"\u001b[39m\u001b[38;5;130;01m\\n\u001b[39;00m\u001b[38;5;124m19. Scatterplot of Price vs Sales\u001b[39m\u001b[38;5;124m\"\u001b[39m)\n\u001b[0;32m----> 2\u001b[0m \u001b[43msns\u001b[49m\u001b[38;5;241m.\u001b[39mscatterplot(x\u001b[38;5;241m=\u001b[39mdf[\u001b[38;5;124m\"\u001b[39m\u001b[38;5;124mPrice in thousands\u001b[39m\u001b[38;5;124m\"\u001b[39m], y\u001b[38;5;241m=\u001b[39mdf[\u001b[38;5;124m\"\u001b[39m\u001b[38;5;124mSales in thousands\u001b[39m\u001b[38;5;124m\"\u001b[39m])\n\u001b[1;32m      3\u001b[0m plt\u001b[38;5;241m.\u001b[39mshow()\n",
      "\u001b[0;31mNameError\u001b[0m: name 'sns' is not defined"
     ]
    }
   ],
   "source": [
    "print(\"\\n19. Scatterplot of Price vs Sales\")\n",
    "sns.scatterplot(x=df[\"Price in thousands\"], y=df[\"Sales in thousands\"])\n",
    "plt.show()"
   ]
  }
 ],
 "metadata": {
  "kernelspec": {
   "display_name": "Python 3 (ipykernel)",
   "language": "python",
   "name": "python3"
  },
  "language_info": {
   "codemirror_mode": {
    "name": "ipython",
    "version": 3
   },
   "file_extension": ".py",
   "mimetype": "text/x-python",
   "name": "python",
   "nbconvert_exporter": "python",
   "pygments_lexer": "ipython3",
   "version": "3.8.10"
  }
 },
 "nbformat": 4,
 "nbformat_minor": 5
}
